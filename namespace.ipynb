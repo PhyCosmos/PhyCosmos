{
 "cells": [
  {
   "cell_type": "markdown",
   "id": "7373881e-07aa-469d-8014-998c0fb57d94",
   "metadata": {},
   "source": [
    "# Namespace in Python\n",
    "\n",
    "- 같은 이름 사용으로 인한 충돌을 막기 위해 \n",
    "- scope resolution으로 구분되는 \n",
    "- `{name: obj}` dict 타입으로 정의된 것\n",
    "\n",
    "- Built-in Namespace > Global Namespace > Enclosing Namespace > Local Namespace\n",
    "- Enclosing Namespace는 function이 다른 function을 포함하는 경우에 생긴다.|"
   ]
  },
  {
   "cell_type": "code",
   "execution_count": 1,
   "id": "60d1febf-57b6-45e1-8cfe-36ebeace5ac1",
   "metadata": {},
   "outputs": [
    {
     "data": {
      "text/plain": [
       "['dict', 'dir', 'display']"
      ]
     },
     "execution_count": 1,
     "metadata": {},
     "output_type": "execute_result"
    }
   ],
   "source": [
    "# 1. Built-in Namespace\n",
    "dir(__builtins__)[97:100]"
   ]
  },
  {
   "cell_type": "code",
   "execution_count": 2,
   "id": "812f2896-3fd8-49ca-b532-af04aab5d087",
   "metadata": {},
   "outputs": [
    {
     "name": "stdout",
     "output_type": "stream",
     "text": [
      "__main__\n",
      "global\n"
     ]
    },
    {
     "data": {
      "text/plain": [
       "True"
      ]
     },
     "execution_count": 2,
     "metadata": {},
     "output_type": "execute_result"
    }
   ],
   "source": [
    "# 2. Global Namespace\n",
    "x = 'global'\n",
    "def f():\n",
    "    # x = 'enclosign'\n",
    "    def g():\n",
    "        # x = 'local'\n",
    "        print(x)\n",
    "    g()\n",
    "\n",
    "print(globals()['__name__'])\n",
    "f() in globals().values()"
   ]
  },
  {
   "cell_type": "code",
   "execution_count": 3,
   "id": "f4edefcc-3a20-4a83-9476-6a607e251878",
   "metadata": {},
   "outputs": [
    {
     "name": "stdout",
     "output_type": "stream",
     "text": [
      "enclosign\n"
     ]
    }
   ],
   "source": [
    "# 3. Enclosing Namespace\n",
    "x = 'global'\n",
    "def f():\n",
    "    x = 'enclosign'\n",
    "    def g():\n",
    "        # x = 'local'\n",
    "        print(x)\n",
    "    g()\n",
    "    \n",
    "f()"
   ]
  },
  {
   "cell_type": "code",
   "execution_count": 4,
   "id": "bc475583-e4b0-4370-977d-7a829926631f",
   "metadata": {},
   "outputs": [
    {
     "name": "stdout",
     "output_type": "stream",
     "text": [
      "local\n"
     ]
    }
   ],
   "source": [
    "# 4. local Namespace\n",
    "x = 'global'\n",
    "def f():\n",
    "    x = 'enclosign'\n",
    "    def g():\n",
    "        x = 'local'\n",
    "        print(x)\n",
    "    g()\n",
    "    \n",
    "f()"
   ]
  }
 ],
 "metadata": {
  "kernelspec": {
   "display_name": "myenv",
   "language": "python",
   "name": "myenv"
  },
  "language_info": {
   "codemirror_mode": {
    "name": "ipython",
    "version": 3
   },
   "file_extension": ".py",
   "mimetype": "text/x-python",
   "name": "python",
   "nbconvert_exporter": "python",
   "pygments_lexer": "ipython3",
   "version": "3.9.13"
  }
 },
 "nbformat": 4,
 "nbformat_minor": 5
}
