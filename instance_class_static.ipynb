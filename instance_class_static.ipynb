{
 "cells": [
  {
   "cell_type": "markdown",
   "id": "0a568483-6562-4f51-b80b-424b85be7b85",
   "metadata": {},
   "source": [
    "# 1. 클래스에 속한 methods 구분\n",
    "\n",
    "class 안에 있는 method 는 오브젝트 `cls`와 인스턴스 `self`에 대한 access 방식에 따라 3 가지로 나눌 수 있다.  \n",
    "- 클래스 디자인의 의도를 강제하려는 목적과\n",
    "- 그러한 의도를 쉽게 알아보게 하여 맞춤관리에 도움을 주고자 ~~할 뿐 엄격하지는 않다~~_.\n",
    "|메서드|접근방식|호출형식|\n",
    "|:--|:--|:--|\n",
    "|instance method|`self`|`obj = ClassName(); obj.instance_method()`|\n",
    "|class method|`cls`| `ClassName.class_method()`|\n",
    "|static method|없음 | `ClassName.static_mehtod()`|\n",
    "\n",
    "- static method는 독립적으로 사용할 수 있지만, class namespace에 속하게 된다.\n",
    "    - class나 instance에 접근할 수 있는 권한이 없으므로 수정하는 행위가 차단된다.\n",
    "    - `@staticmethod` 데코레이터를 사용하여 정의한다.\n",
    "- class method는 class 오브젝트에 관한 method로서 인스턴스에 대한 접근이 금지된다.\n",
    "    - `@classmethod` 데코레이터를 사용하여  정의한다.\n",
    "- instance method는 인스턴스`self`에 접근할 수 있는 메서드이므로 instantiation이 반드시 필요하다."
   ]
  },
  {
   "cell_type": "code",
   "execution_count": 1,
   "id": "689cfbc2-0356-485c-93e9-911aa105283e",
   "metadata": {},
   "outputs": [
    {
     "data": {
      "text/plain": [
       "0.06167781186449828"
      ]
     },
     "execution_count": 1,
     "metadata": {},
     "output_type": "execute_result"
    }
   ],
   "source": [
    "import numpy as np\n",
    "\n",
    "class MyAccount:\n",
    "    trans_cost = 10\n",
    "    def __init__(self, name, account_number, balance=0):\n",
    "        self.name = name\n",
    "        self.account_number = account_number\n",
    "        self.balance = balance\n",
    "    # 1    \n",
    "    def __repr__(self):\n",
    "        return repr((self.name, self.account_number, self.balance))\n",
    "    # 2\n",
    "    @staticmethod    \n",
    "    def interest_rate_year(r_month):\n",
    "        return (1+r_month)**12 - 1\n",
    "    # 3\n",
    "    @classmethod\n",
    "    def get_trans_cost(cls):\n",
    "        return str(cls.trans_cost)\n",
    "        \n",
    "    \n",
    "MyAccount.interest_rate_year(0.005)"
   ]
  },
  {
   "cell_type": "code",
   "execution_count": 2,
   "id": "67738a87-c672-4237-a36e-de117bfda198",
   "metadata": {},
   "outputs": [
    {
     "data": {
      "text/plain": [
       "'10'"
      ]
     },
     "execution_count": 2,
     "metadata": {},
     "output_type": "execute_result"
    }
   ],
   "source": [
    "MyAccount.get_trans_cost()"
   ]
  },
  {
   "cell_type": "code",
   "execution_count": 3,
   "id": "f76188dc-514a-4079-9cb7-b88fc3dbd47d",
   "metadata": {},
   "outputs": [
    {
     "data": {
      "text/plain": [
       "('yang', '123-456-7890', 1000)"
      ]
     },
     "execution_count": 3,
     "metadata": {},
     "output_type": "execute_result"
    }
   ],
   "source": [
    "myaccount = MyAccount('yang', '123-456-7890', 1000)\n",
    "myaccount"
   ]
  },
  {
   "cell_type": "markdown",
   "id": "93d139a6-ff4e-4973-8400-4f77b1fc7996",
   "metadata": {},
   "source": [
    "- `# 1` __repr__() : 인스턴스를 어떻게 나타낼지 정하는 인스턴스 메서드( __str__()도 있다.) \n",
    "- `# 2` 클래스 객체나 인스턴스 객체에 접근할 필요는 없지만, MyAccount에서 필요로 할 만한 기능이나 \n",
    "    함께 묶어 객체화 하는 것이 자연스러운 메서드를 `@staticmethod`로 정의하면 좋을 것이다.\n",
    "- `# 3` 인스턴스와는 별개지만, 클래스에 속하는 attributes에 관계된 메서드를 `@classmethod`로 \n",
    "    정의하면 좋을 것이다.\n",
    "    \n",
    "---"
   ]
  }
 ],
 "metadata": {
  "kernelspec": {
   "display_name": "myenv",
   "language": "python",
   "name": "myenv"
  },
  "language_info": {
   "codemirror_mode": {
    "name": "ipython",
    "version": 3
   },
   "file_extension": ".py",
   "mimetype": "text/x-python",
   "name": "python",
   "nbconvert_exporter": "python",
   "pygments_lexer": "ipython3",
   "version": "3.9.13"
  }
 },
 "nbformat": 4,
 "nbformat_minor": 5
}
